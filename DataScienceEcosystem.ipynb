{
 "cells": [
  {
   "cell_type": "markdown",
   "id": "680c38d8",
   "metadata": {},
   "source": [
    "## Author\n",
    "Alvin Nishant"
   ]
  },
  {
   "cell_type": "markdown",
   "id": "879279f8",
   "metadata": {},
   "source": [
    "# Data Science Tools and Ecosystem"
   ]
  },
  {
   "cell_type": "markdown",
   "id": "5af7139d",
   "metadata": {},
   "source": [
    "### In this notebook, Data Science Tools and Ecosystem are summarized."
   ]
  },
  {
   "cell_type": "markdown",
   "id": "c1aca11f",
   "metadata": {},
   "source": [
    "### __Objectives:__\n",
    " - List popular languages for Data Science\n",
    " - List popular libraries used for Data Science\n",
    " - Create a table of popular Data Science Tools\n",
    " - Evaluating simple arithmetic expression"
   ]
  },
  {
   "cell_type": "markdown",
   "id": "de956cab",
   "metadata": {},
   "source": [
    "#### Some of the popular languages that Data Scientists use are:\n",
    "#### 1) Python\n",
    "#### 2) R\n",
    "#### 3) SQL\n"
   ]
  },
  {
   "cell_type": "markdown",
   "id": "689ab9ff",
   "metadata": {},
   "source": [
    "#### Some of the commonly used libraries used by Data Scientists include:\n",
    "#### 1) Pandas\n",
    "#### 2) Scikit Learn\n",
    "#### 1) Numpy"
   ]
  },
  {
   "cell_type": "markdown",
   "id": "351810b9",
   "metadata": {},
   "source": [
    "| Data Science Tools |\n",
    "| -------------------|\n",
    "| Jupyter Notebooks  |\n",
    "| RStudio            |\n",
    "| Apache Zeppelin    |\n",
    "\n"
   ]
  },
  {
   "cell_type": "markdown",
   "id": "48a4a4a2",
   "metadata": {},
   "source": [
    "### Below are a few examples of evaluating arithmetic expressions in Python"
   ]
  },
  {
   "cell_type": "code",
   "execution_count": 4,
   "id": "ce7e7b5b",
   "metadata": {},
   "outputs": [
    {
     "data": {
      "text/plain": [
       "17"
      ]
     },
     "execution_count": 4,
     "metadata": {},
     "output_type": "execute_result"
    }
   ],
   "source": [
    "#This a simple arithmetic expression to mutiply then add integers\n",
    "(3*4)+5"
   ]
  },
  {
   "cell_type": "code",
   "execution_count": 7,
   "id": "1843e81d",
   "metadata": {},
   "outputs": [
    {
     "data": {
      "text/plain": [
       "3.3333333333333335"
      ]
     },
     "execution_count": 7,
     "metadata": {},
     "output_type": "execute_result"
    }
   ],
   "source": [
    "#This will convert 200 minutes to hours by diving by 60\n",
    "200/60"
   ]
  },
  {
   "cell_type": "code",
   "execution_count": null,
   "id": "749b60b8",
   "metadata": {},
   "outputs": [],
   "source": []
  }
 ],
 "metadata": {
  "kernelspec": {
   "display_name": "Python 3 (ipykernel)",
   "language": "python",
   "name": "python3"
  },
  "language_info": {
   "codemirror_mode": {
    "name": "ipython",
    "version": 3
   },
   "file_extension": ".py",
   "mimetype": "text/x-python",
   "name": "python",
   "nbconvert_exporter": "python",
   "pygments_lexer": "ipython3",
   "version": "3.9.13"
  }
 },
 "nbformat": 4,
 "nbformat_minor": 5
}
